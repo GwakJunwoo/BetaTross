{
 "cells": [
  {
   "cell_type": "code",
   "execution_count": 1,
   "metadata": {},
   "outputs": [],
   "source": [
    "# Base packages import\n",
    "import numpy as np\n",
    "import pandas as pd\n",
    "import matplotlib.pyplot as plt"
   ]
  },
  {
   "cell_type": "code",
   "execution_count": 48,
   "metadata": {},
   "outputs": [],
   "source": [
    "# Sample dataset download\n",
    "from pykrx import stock\n",
    "import yfinance as yf\n",
    "import FinanceDataReader as fdr\n",
    "\n",
    "stocks = fdr.StockListing('KRX')\n",
    "metadata_df = stocks[40:50] # Sample\n",
    "ticker_list = metadata_df['Code'].astype(str).tolist()\n",
    "market_cap_dict = {key: value for key, value in zip(metadata_df['Name'], metadata_df['Marcap'])}"
   ]
  },
  {
   "cell_type": "code",
   "execution_count": 41,
   "metadata": {},
   "outputs": [],
   "source": [
    "def get_data(tickers, start_date, end_date, per='m'):\n",
    "    from tqdm import tqdm\n",
    "    from pykrx import stock\n",
    "\n",
    "    df = pd.DataFrame()\n",
    "    for ticker in tqdm(ticker_list):\n",
    "        tmp_series = stock.get_market_ohlcv(start_date, end_date, ticker, per)\n",
    "        tmp_series = tmp_series['종가']\n",
    "        tmp_series.name = stock.get_market_ticker_name(ticker)\n",
    "        df[tmp_series.name] = tmp_series\n",
    "    return df"
   ]
  },
  {
   "cell_type": "code",
   "execution_count": 107,
   "metadata": {},
   "outputs": [
    {
     "name": "stderr",
     "output_type": "stream",
     "text": [
      "100%|██████████| 10/10 [00:08<00:00,  1.25it/s]\n"
     ]
    }
   ],
   "source": [
    "start_date = '20080101'\n",
    "end_date = '20230901'\n",
    "sample = get_data(ticker_list, start_date, end_date)"
   ]
  },
  {
   "cell_type": "code",
   "execution_count": 108,
   "metadata": {},
   "outputs": [],
   "source": [
    "market_prices = fdr.DataReader('KS11', start_date, end_date).resample('M').last()['Adj Close']\n",
    "market_prices.name = '코스피'"
   ]
  },
  {
   "cell_type": "code",
   "execution_count": 109,
   "metadata": {},
   "outputs": [],
   "source": [
    "# Black-litterman portfolio\n",
    "from pypfopt import black_litterman, risk_models\n",
    "\n",
    "sample_df = sample.pct_change()[1:]\n",
    "cov_matrix = sample_df.cov()\n",
    "mcaps = market_cap_dict.copy()\n",
    "\n",
    "delta = black_litterman.market_implied_risk_aversion(market_prices)\n",
    "prior = black_litterman.market_implied_prior_returns(mcaps, delta, cov_matrix)"
   ]
  },
  {
   "cell_type": "code",
   "execution_count": 115,
   "metadata": {},
   "outputs": [],
   "source": [
    "# Sample view insert\n",
    "\n",
    "Q = np.array([0.20, 0.05, 0.10, 0.15]).reshape(-1, 1)\n",
    "P = np.array(\n",
    "    [\n",
    "        [1, 0, 0, 0, 0, 0, 0, 0, 0, 0],\n",
    "        [0, 0, 0, 0, 0, 0, 0, 0, 1, 0],\n",
    "        [0, 1, 0, 0, 0, 0, 0, -1, 0, 0],\n",
    "        [0, 0, 0, 0, 0.5, -1, 1, -0.5, 0, 0],\n",
    "    ]\n",
    ")"
   ]
  },
  {
   "cell_type": "code",
   "execution_count": 116,
   "metadata": {},
   "outputs": [],
   "source": [
    "from pypfopt.black_litterman import BlackLittermanModel\n",
    "\n",
    "viewdict = {\"우리금융지주\": 0.20, \n",
    "            \"S-Oil\": -0.30, \n",
    "            \"기업은행\": 0, \n",
    "            \"KT\": -0.2, \n",
    "            \"HMM\": 0.15}\n",
    "bl = BlackLittermanModel(cov_matrix, pi=prior, Q=Q, P=P)"
   ]
  },
  {
   "cell_type": "code",
   "execution_count": 117,
   "metadata": {},
   "outputs": [],
   "source": [
    "import numpy as np\n",
    "import pandas as pd\n",
    "from pypfopt import BlackLittermanModel\n",
    "from pypfopt import expected_returns\n",
    "from pypfopt import risk_models\n",
    "from pypfopt import plotting\n",
    "from pypfopt.efficient_frontier import EfficientFrontier\n",
    "\n",
    "rets = bl.bl_returns()\n",
    "ef = EfficientFrontier(rets, cov_matrix)"
   ]
  },
  {
   "cell_type": "code",
   "execution_count": 118,
   "metadata": {},
   "outputs": [],
   "source": [
    "bl.bl_weights(delta)\n",
    "weights = bl.clean_weights()"
   ]
  },
  {
   "cell_type": "code",
   "execution_count": 119,
   "metadata": {},
   "outputs": [
    {
     "name": "stdout",
     "output_type": "stream",
     "text": [
      "Expected annual return: 10.4%\n",
      "Annual volatility: 6.7%\n",
      "Sharpe Ratio: 1.25\n"
     ]
    },
    {
     "data": {
      "text/plain": [
       "<AxesSubplot:xlabel='Weight'>"
      ]
     },
     "execution_count": 119,
     "metadata": {},
     "output_type": "execute_result"
    },
    {
     "data": {
      "image/png": "[encoded data removed]",
      "text/plain": [
       "<Figure size 640x480 with 1 Axes>"
      ]
     },
     "metadata": {},
     "output_type": "display_data"
    }
   ],
   "source": [
    "bl.portfolio_performance(weights)\n",
    "plotting.plot_weights(weights)"
   ]
  },
  {
   "cell_type": "code",
   "execution_count": 126,
   "metadata": {},
   "outputs": [
    {
     "data": {
      "text/plain": [
       "1.00001"
      ]
     },
     "execution_count": 126,
     "metadata": {},
     "output_type": "execute_result"
    }
   ],
   "source": [
    "sum(weights.values())"
   ]
  },
  {
   "cell_type": "code",
   "execution_count": null,
   "metadata": {},
   "outputs": [],
   "source": []
  }
 ],
 "metadata": {
  "kernelspec": {
   "display_name": "trading",
   "language": "python",
   "name": "python3"
  },
  "language_info": {
   "codemirror_mode": {
    "name": "ipython",
    "version": 3
   },
   "file_extension": ".py",
   "mimetype": "text/x-python",
   "name": "python",
   "nbconvert_exporter": "python",
   "pygments_lexer": "ipython3",
   "version": "3.7.16"
  },
  "orig_nbformat": 4
 },
 "nbformat": 4,
 "nbformat_minor": 2
}
